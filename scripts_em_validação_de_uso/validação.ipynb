{
 "cells": [
  {
   "cell_type": "code",
   "execution_count": 5,
   "id": "ac199fcc",
   "metadata": {},
   "outputs": [
    {
     "ename": "SyntaxError",
     "evalue": "invalid syntax (3982705582.py, line 15)",
     "output_type": "error",
     "traceback": [
      "\u001b[0;36m  File \u001b[0;32m\"/tmp/ipykernel_141313/3982705582.py\"\u001b[0;36m, line \u001b[0;32m15\u001b[0m\n\u001b[0;31m    from '/home/jc/airflow/Economics_BR/connections.py' import *\u001b[0m\n\u001b[0m         ^\u001b[0m\n\u001b[0;31mSyntaxError\u001b[0m\u001b[0;31m:\u001b[0m invalid syntax\n"
     ]
    }
   ],
   "source": [
    "from bs4 import *\n",
    "import pandas as pd\n",
    "from urllib.request import Request, urlopen\n",
    "from urllib.error import URLError, HTTPError\n",
    "from datetime import datetime as dt\n",
    "from sqlalchemy.orm import sessionmaker\n",
    "from sqlalchemy import create_engine\n",
    "import sqlalchemy\n",
    "from html.parser import HTMLParser\n",
    "import locale\n",
    "import pymysql\n",
    "import psycopg2\n",
    "import time\n",
    "import re\n",
    "from '/home/jc/airflow/Economics_BR/connections.py' import *"
   ]
  },
  {
   "cell_type": "code",
   "execution_count": null,
   "id": "4158e28f",
   "metadata": {},
   "outputs": [],
   "source": [
    "url = 'https://www.fundamentus.com.br/resultado.php'\n",
    "    headers = {'User-Agent': 'Mozilla/5.0 (Windows NT 10.0; Win64; x64) AppleWebKit/537.36 (KHTML, like Gecko) Chrome/76.0.3809.100 Safari/537.36'}\n",
    "\n",
    "    req = Request(url, headers = headers)\n",
    "    response = urlopen(req)\n",
    "    html = response.read()\n",
    "\n",
    "    soup = BeautifulSoup(html, 'html.parser')\n",
    "    soup\n",
    "    with open(\"/home/jc/visual-code/raw_files_okonomikos/output.html\", \"w\", encoding='utf-8') as file:\n",
    "        file.write(str(soup))"
   ]
  }
 ],
 "metadata": {
  "kernelspec": {
   "display_name": "Python 3 (ipykernel)",
   "language": "python",
   "name": "python3"
  },
  "language_info": {
   "codemirror_mode": {
    "name": "ipython",
    "version": 3
   },
   "file_extension": ".py",
   "mimetype": "text/x-python",
   "name": "python",
   "nbconvert_exporter": "python",
   "pygments_lexer": "ipython3",
   "version": "3.9.7"
  }
 },
 "nbformat": 4,
 "nbformat_minor": 5
}
